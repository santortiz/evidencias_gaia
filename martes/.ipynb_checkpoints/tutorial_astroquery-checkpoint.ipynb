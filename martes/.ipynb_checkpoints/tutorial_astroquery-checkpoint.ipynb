{
 "cells": [
  {
   "cell_type": "markdown",
   "id": "serial-significance",
   "metadata": {
    "id": "serial-significance"
   },
   "source": [
    "# Tutorial:  Programmatic acces to the Gaia Archive.\n",
    "\n",
    "**In this tutorial you will learn to:**\n",
    "\n",
    "1. Access programmatically to the Gaia Archive\n",
    "2. Examine all the catalogues that are available\n",
    "3. Execute a simple ADQL query to retrieve a sample dataset\n",
    "4. Use the pre-computed cross-matches hosted by the Archive to easily combine different catalogues.\n",
    "\n",
    "Download and inspect different Archive products available for a selected sample centred in the brightest star of the Pleiades open cluster (Alcyone: R.A., Dec = 56.87125, 24.10493).\n",
    "\n",
    "\n",
    "**Minimum requirements:**\n",
    "\n",
    "* Jupyter Notebook\n",
    "* Astropy\n",
    "* Astroquery\n",
    "* Numpy\n",
    "* Matplotlib (optional)\n",
    "* pyESASky (optional)\n",
    "\n",
    "\n",
    "\n",
    "\n",
    "**Author(s):**\n",
    "\n",
    "Héctor Cánovas (Hector.Canovas at esa.int), Telespazio UK for ESA.\n",
    "\n",
    "\n",
    "**Related links**\n",
    "* [Gaia Archive](https://gea.esac.esa.int/archive/)\n",
    "* [Gaia Archive Help](https://www.cosmos.esa.int/web/gaia-users/archive)\n",
    "* [Pre-computed Cross-matches tutorial](https://www.cosmos.esa.int/web/gaia-users/archive/combine-with-other-data#Sect_combine_precomputed_XM)\n",
    "* [Astroquery.Gaia](https://astroquery.readthedocs.io/en/latest/gaia/gaia.html)\n",
    "* [pyESASky](https://www.cosmos.esa.int/web/esdc/pyesasky)"
   ]
  },
  {
   "cell_type": "code",
   "execution_count": 1,
   "id": "1ElvE6CMAsPb",
   "metadata": {
    "colab": {
     "base_uri": "https://localhost:8080/"
    },
    "executionInfo": {
     "elapsed": 5237,
     "status": "ok",
     "timestamp": 1644302506085,
     "user": {
      "displayName": "Hector Cánovas",
      "photoUrl": "https://lh3.googleusercontent.com/a-/AOh14GivbuqKKRvcHg22Et2HNfx8XAIYTfxITnxwgLaioA=s64",
      "userId": "05676006117847450574"
     },
     "user_tz": -60
    },
    "id": "1ElvE6CMAsPb",
    "outputId": "d24f9647-310b-4cfe-ef55-ef0016477a2a"
   },
   "outputs": [
    {
     "name": "stdout",
     "output_type": "stream",
     "text": [
      "Requirement already satisfied: astroquery in /home/santortiz/anaconda3/lib/python3.9/site-packages (0.4.5)\n",
      "Requirement already satisfied: numpy>=1.16 in /home/santortiz/anaconda3/lib/python3.9/site-packages (from astroquery) (1.20.3)\n",
      "Requirement already satisfied: astropy>=4.0 in /home/santortiz/anaconda3/lib/python3.9/site-packages (from astroquery) (4.3.1)\n",
      "Requirement already satisfied: keyring>=4.0 in /home/santortiz/anaconda3/lib/python3.9/site-packages (from astroquery) (23.1.0)\n",
      "Requirement already satisfied: requests>=2.4.3 in /home/santortiz/anaconda3/lib/python3.9/site-packages (from astroquery) (2.26.0)\n",
      "Requirement already satisfied: pyvo>=1.1 in /home/santortiz/anaconda3/lib/python3.9/site-packages (from astroquery) (1.2.1)\n",
      "Requirement already satisfied: html5lib>=0.999 in /home/santortiz/anaconda3/lib/python3.9/site-packages (from astroquery) (1.1)\n",
      "Requirement already satisfied: beautifulsoup4>=4.3.2 in /home/santortiz/anaconda3/lib/python3.9/site-packages (from astroquery) (4.10.0)\n",
      "Requirement already satisfied: pyerfa>=1.7.3 in /home/santortiz/anaconda3/lib/python3.9/site-packages (from astropy>=4.0->astroquery) (2.0.0)\n",
      "Requirement already satisfied: soupsieve>1.2 in /home/santortiz/anaconda3/lib/python3.9/site-packages (from beautifulsoup4>=4.3.2->astroquery) (2.2.1)\n",
      "Requirement already satisfied: six>=1.9 in /home/santortiz/anaconda3/lib/python3.9/site-packages (from html5lib>=0.999->astroquery) (1.16.0)\n",
      "Requirement already satisfied: webencodings in /home/santortiz/anaconda3/lib/python3.9/site-packages (from html5lib>=0.999->astroquery) (0.5.1)\n",
      "Requirement already satisfied: SecretStorage>=3.2 in /home/santortiz/anaconda3/lib/python3.9/site-packages (from keyring>=4.0->astroquery) (3.3.1)\n",
      "Requirement already satisfied: jeepney>=0.4.2 in /home/santortiz/anaconda3/lib/python3.9/site-packages (from keyring>=4.0->astroquery) (0.7.1)\n",
      "Requirement already satisfied: importlib-metadata>=3.6 in /home/santortiz/anaconda3/lib/python3.9/site-packages (from keyring>=4.0->astroquery) (4.8.1)\n",
      "Requirement already satisfied: zipp>=0.5 in /home/santortiz/anaconda3/lib/python3.9/site-packages (from importlib-metadata>=3.6->keyring>=4.0->astroquery) (3.6.0)\n",
      "Requirement already satisfied: urllib3<1.27,>=1.21.1 in /home/santortiz/anaconda3/lib/python3.9/site-packages (from requests>=2.4.3->astroquery) (1.26.7)\n",
      "Requirement already satisfied: idna<4,>=2.5 in /home/santortiz/anaconda3/lib/python3.9/site-packages (from requests>=2.4.3->astroquery) (3.2)\n",
      "Requirement already satisfied: charset-normalizer~=2.0.0 in /home/santortiz/anaconda3/lib/python3.9/site-packages (from requests>=2.4.3->astroquery) (2.0.4)\n",
      "Requirement already satisfied: certifi>=2017.4.17 in /home/santortiz/anaconda3/lib/python3.9/site-packages (from requests>=2.4.3->astroquery) (2021.10.8)\n",
      "Requirement already satisfied: cryptography>=2.0 in /home/santortiz/anaconda3/lib/python3.9/site-packages (from SecretStorage>=3.2->keyring>=4.0->astroquery) (3.4.8)\n",
      "Requirement already satisfied: cffi>=1.12 in /home/santortiz/anaconda3/lib/python3.9/site-packages (from cryptography>=2.0->SecretStorage>=3.2->keyring>=4.0->astroquery) (1.14.6)\n",
      "Requirement already satisfied: pycparser in /home/santortiz/anaconda3/lib/python3.9/site-packages (from cffi>=1.12->cryptography>=2.0->SecretStorage>=3.2->keyring>=4.0->astroquery) (2.20)\n"
     ]
    }
   ],
   "source": [
    "! pip install astroquery"
   ]
  },
  {
   "cell_type": "code",
   "execution_count": 2,
   "id": "fresh-montana",
   "metadata": {
    "id": "fresh-montana"
   },
   "outputs": [],
   "source": [
    "from astroquery.gaia import Gaia\n",
    "from astropy.visualization import hist\n",
    "import numpy as np\n",
    "import matplotlib.pyplot as plt\n",
    "\n",
    "#Optional: pyESASky (https://www.cosmos.esa.int/web/esdc/pyesasky)\n",
    "load_esasky = True # poner False si se corre en Collab, ya que pyESASky no funcionará\n",
    "if load_esasky:\n",
    "    from pyesasky import ESASkyWidget\n",
    "    from pyesasky import Catalogue\n",
    "    from pyesasky.cooFrame   import CooFrame"
   ]
  },
  {
   "cell_type": "code",
   "execution_count": 3,
   "id": "cb3fd662",
   "metadata": {
    "id": "cb3fd662"
   },
   "outputs": [],
   "source": [
    "# Dedicate functions ============\n",
    "\n",
    "def make_canvas(title = '', xlabel = '', ylabel = '', show_grid = False, show_legend = False, fontsize = 12):\n",
    "    \"\"\n",
    "    \"Generic function to simply the edition of plots\"\n",
    "    \"\"\n",
    "    plt.title(title,    fontsize = fontsize)\n",
    "    plt.xlabel(xlabel,  fontsize = fontsize)\n",
    "    plt.ylabel(ylabel , fontsize = fontsize)\n",
    "    plt.xticks(fontsize = fontsize)\n",
    "    plt.yticks(fontsize = fontsize)\n",
    "    if show_grid:\n",
    "        plt.grid()\n",
    "    if show_legend:\n",
    "        plt.legend(fontsize = fontsize)"
   ]
  },
  {
   "cell_type": "markdown",
   "id": "damaged-adobe",
   "metadata": {
    "id": "damaged-adobe"
   },
   "source": [
    "## Login to the Gaia Archive\n",
    "\n",
    "Update user name below as needed."
   ]
  },
  {
   "cell_type": "code",
   "execution_count": 4,
   "id": "understanding-zambia",
   "metadata": {
    "colab": {
     "base_uri": "https://localhost:8080/"
    },
    "executionInfo": {
     "elapsed": 7799,
     "status": "ok",
     "timestamp": 1644302652729,
     "user": {
      "displayName": "Hector Cánovas",
      "photoUrl": "https://lh3.googleusercontent.com/a-/AOh14GivbuqKKRvcHg22Et2HNfx8XAIYTfxITnxwgLaioA=s64",
      "userId": "05676006117847450574"
     },
     "user_tz": -60
    },
    "id": "understanding-zambia",
    "outputId": "4b685d68-3c21-46b9-a185-734e3e40490f"
   },
   "outputs": [
    {
     "name": "stdout",
     "output_type": "stream",
     "text": [
      "INFO: Login to gaia TAP server [astroquery.gaia.core]\n",
      "Password: ········\n",
      "OK\n",
      "INFO: Login to gaia data server [astroquery.gaia.core]\n",
      "OK\n"
     ]
    }
   ],
   "source": [
    "user_name = 'sortiz01'\n",
    "Gaia.login(user = user_name) # Also: Gaia.login()"
   ]
  },
  {
   "cell_type": "markdown",
   "id": "74e2be24",
   "metadata": {
    "id": "74e2be24"
   },
   "source": [
    "### Find out Available catalogues"
   ]
  },
  {
   "cell_type": "code",
   "execution_count": 6,
   "id": "a197bce0",
   "metadata": {
    "colab": {
     "base_uri": "https://localhost:8080/"
    },
    "executionInfo": {
     "elapsed": 1023,
     "status": "ok",
     "timestamp": 1644302660803,
     "user": {
      "displayName": "Hector Cánovas",
      "photoUrl": "https://lh3.googleusercontent.com/a-/AOh14GivbuqKKRvcHg22Et2HNfx8XAIYTfxITnxwgLaioA=s64",
      "userId": "05676006117847450574"
     },
     "user_tz": -60
    },
    "id": "a197bce0",
    "outputId": "ec4d0fb9-28de-4d87-c0a9-00fa22d36925",
    "scrolled": true
   },
   "outputs": [
    {
     "name": "stdout",
     "output_type": "stream",
     "text": [
      "INFO: Retrieving tables... [astroquery.utils.tap.core]\n",
      "INFO: Parsing tables... [astroquery.utils.tap.core]\n",
      "INFO: Done. [astroquery.utils.tap.core]\n",
      "\n",
      "external.external.apassdr9\n",
      "external.external.gaiadr2_astrophysical_parameters\n",
      "external.external.gaiadr2_geometric_distance\n",
      "external.external.gaiaedr3_distance\n",
      "external.external.gaiaedr3_gcns_main_1\n",
      "external.external.gaiaedr3_gcns_rejected_1\n",
      "external.external.gaiaedr3_spurious\n",
      "external.external.galex_ais\n",
      "external.external.ravedr5_com\n",
      "external.external.ravedr5_dr5\n",
      "external.external.ravedr5_gra\n",
      "external.external.ravedr5_on\n",
      "external.external.sdssdr13_photoprimary\n",
      "external.external.skymapperdr1_master\n",
      "external.external.skymapperdr2_master\n",
      "external.external.tmass_xsc\n",
      "gaiadr1.gaiadr1.aux_qso_icrf2_match\n",
      "gaiadr1.gaiadr1.ext_phot_zero_point\n",
      "gaiadr1.gaiadr1.allwise_best_neighbour\n",
      "gaiadr1.gaiadr1.allwise_neighbourhood\n",
      "gaiadr1.gaiadr1.gsc23_best_neighbour\n",
      "gaiadr1.gaiadr1.gsc23_neighbourhood\n",
      "gaiadr1.gaiadr1.ppmxl_best_neighbour\n",
      "gaiadr1.gaiadr1.ppmxl_neighbourhood\n",
      "gaiadr1.gaiadr1.sdss_dr9_best_neighbour\n",
      "gaiadr1.gaiadr1.sdss_dr9_neighbourhood\n",
      "gaiadr1.gaiadr1.tmass_best_neighbour\n",
      "gaiadr1.gaiadr1.tmass_neighbourhood\n",
      "gaiadr1.gaiadr1.ucac4_best_neighbour\n",
      "gaiadr1.gaiadr1.ucac4_neighbourhood\n",
      "gaiadr1.gaiadr1.urat1_best_neighbour\n",
      "gaiadr1.gaiadr1.urat1_neighbourhood\n",
      "gaiadr1.gaiadr1.cepheid\n",
      "gaiadr1.gaiadr1.phot_variable_time_series_gfov\n",
      "gaiadr1.gaiadr1.phot_variable_time_series_gfov_statistical_parameters\n",
      "gaiadr1.gaiadr1.rrlyrae\n",
      "gaiadr1.gaiadr1.variable_summary\n",
      "gaiadr1.gaiadr1.allwise_original_valid\n",
      "gaiadr1.gaiadr1.gsc23_original_valid\n",
      "gaiadr1.gaiadr1.ppmxl_original_valid\n",
      "gaiadr1.gaiadr1.sdssdr9_original_valid\n",
      "gaiadr1.gaiadr1.tmass_original_valid\n",
      "gaiadr1.gaiadr1.ucac4_original_valid\n",
      "gaiadr1.gaiadr1.urat1_original_valid\n",
      "gaiadr1.gaiadr1.gaia_source\n",
      "gaiadr1.gaiadr1.tgas_source\n",
      "gaiadr2.gaiadr2.aux_allwise_agn_gdr2_cross_id\n",
      "gaiadr2.gaiadr2.aux_iers_gdr2_cross_id\n",
      "gaiadr2.gaiadr2.aux_sso_orbit_residuals\n",
      "gaiadr2.gaiadr2.aux_sso_orbits\n",
      "gaiadr2.gaiadr2.dr1_neighbourhood\n",
      "gaiadr2.gaiadr2.allwise_best_neighbour\n",
      "gaiadr2.gaiadr2.allwise_neighbourhood\n",
      "gaiadr2.gaiadr2.apassdr9_best_neighbour\n",
      "gaiadr2.gaiadr2.apassdr9_neighbourhood\n",
      "gaiadr2.gaiadr2.gsc23_best_neighbour\n",
      "gaiadr2.gaiadr2.gsc23_neighbourhood\n",
      "gaiadr2.gaiadr2.hipparcos2_best_neighbour\n",
      "gaiadr2.gaiadr2.hipparcos2_neighbourhood\n",
      "gaiadr2.gaiadr2.panstarrs1_best_neighbour\n",
      "gaiadr2.gaiadr2.panstarrs1_neighbourhood\n",
      "gaiadr2.gaiadr2.ppmxl_best_neighbour\n",
      "gaiadr2.gaiadr2.ppmxl_neighbourhood\n",
      "gaiadr2.gaiadr2.ravedr5_best_neighbour\n",
      "gaiadr2.gaiadr2.ravedr5_neighbourhood\n",
      "gaiadr2.gaiadr2.sdssdr9_best_neighbour\n",
      "gaiadr2.gaiadr2.sdssdr9_neighbourhood\n",
      "gaiadr2.gaiadr2.tmass_best_neighbour\n",
      "gaiadr2.gaiadr2.tmass_neighbourhood\n",
      "gaiadr2.gaiadr2.tycho2_best_neighbour\n",
      "gaiadr2.gaiadr2.tycho2_neighbourhood\n",
      "gaiadr2.gaiadr2.urat1_best_neighbour\n",
      "gaiadr2.gaiadr2.urat1_neighbourhood\n",
      "gaiadr2.gaiadr2.sso_observation\n",
      "gaiadr2.gaiadr2.sso_source\n",
      "gaiadr2.gaiadr2.vari_cepheid\n",
      "gaiadr2.gaiadr2.vari_classifier_class_definition\n",
      "gaiadr2.gaiadr2.vari_classifier_definition\n",
      "gaiadr2.gaiadr2.vari_classifier_result\n",
      "gaiadr2.gaiadr2.vari_long_period_variable\n",
      "gaiadr2.gaiadr2.vari_rotation_modulation\n",
      "gaiadr2.gaiadr2.vari_rrlyrae\n",
      "gaiadr2.gaiadr2.vari_short_timescale\n",
      "gaiadr2.gaiadr2.vari_time_series_statistics\n",
      "gaiadr2.gaiadr2.panstarrs1_original_valid\n",
      "gaiadr2.gaiadr2.gaia_source\n",
      "gaiadr2.gaiadr2.ruwe\n",
      "gaiaedr3.gaiaedr3.gaia_source\n",
      "gaiaedr3.gaiaedr3.agn_cross_id\n",
      "gaiaedr3.gaiaedr3.commanded_scan_law\n",
      "gaiaedr3.gaiaedr3.dr2_neighbourhood\n",
      "gaiaedr3.gaiaedr3.frame_rotator_source\n",
      "gaiaedr3.gaiaedr3.allwise_best_neighbour\n",
      "gaiaedr3.gaiaedr3.allwise_neighbourhood\n",
      "gaiaedr3.gaiaedr3.apassdr9_best_neighbour\n",
      "gaiaedr3.gaiaedr3.apassdr9_join\n",
      "gaiaedr3.gaiaedr3.apassdr9_neighbourhood\n",
      "gaiaedr3.gaiaedr3.gsc23_best_neighbour\n",
      "gaiaedr3.gaiaedr3.gsc23_join\n",
      "gaiaedr3.gaiaedr3.gsc23_neighbourhood\n",
      "gaiaedr3.gaiaedr3.hipparcos2_best_neighbour\n",
      "gaiaedr3.gaiaedr3.hipparcos2_neighbourhood\n",
      "gaiaedr3.gaiaedr3.panstarrs1_best_neighbour\n",
      "gaiaedr3.gaiaedr3.panstarrs1_join\n",
      "gaiaedr3.gaiaedr3.panstarrs1_neighbourhood\n",
      "gaiaedr3.gaiaedr3.ravedr5_best_neighbour\n",
      "gaiaedr3.gaiaedr3.ravedr5_join\n",
      "gaiaedr3.gaiaedr3.ravedr5_neighbourhood\n",
      "gaiaedr3.gaiaedr3.sdssdr13_best_neighbour\n",
      "gaiaedr3.gaiaedr3.sdssdr13_join\n",
      "gaiaedr3.gaiaedr3.sdssdr13_neighbourhood\n",
      "gaiaedr3.gaiaedr3.skymapperdr2_best_neighbour\n",
      "gaiaedr3.gaiaedr3.skymapperdr2_join\n",
      "gaiaedr3.gaiaedr3.skymapperdr2_neighbourhood\n",
      "gaiaedr3.gaiaedr3.tmass_psc_xsc_best_neighbour\n",
      "gaiaedr3.gaiaedr3.tmass_psc_xsc_join\n",
      "gaiaedr3.gaiaedr3.tmass_psc_xsc_neighbourhood\n",
      "gaiaedr3.gaiaedr3.tycho2tdsc_merge_best_neighbour\n",
      "gaiaedr3.gaiaedr3.tycho2tdsc_merge_neighbourhood\n",
      "gaiaedr3.gaiaedr3.urat1_best_neighbour\n",
      "gaiaedr3.gaiaedr3.urat1_neighbourhood\n",
      "gaiaedr3.gaiaedr3.gaia_source_simulation\n",
      "gaiaedr3.gaiaedr3.gaia_universe_model\n",
      "gaiaedr3.gaiaedr3.tycho2tdsc_merge\n",
      "public.public.hipparcos\n",
      "public.public.hipparcos_newreduction\n",
      "public.public.hubble_sc\n",
      "public.public.igsl_source\n",
      "public.public.igsl_source_catalog_ids\n",
      "public.public.tycho2\n",
      "public.public.dual\n",
      "public.public.test\n",
      "tap_config.tap_config.coord_sys\n",
      "tap_config.tap_config.properties\n",
      "tap_schema.tap_schema.columns\n",
      "tap_schema.tap_schema.key_columns\n",
      "tap_schema.tap_schema.keys\n",
      "tap_schema.tap_schema.schemas\n",
      "tap_schema.tap_schema.tables\n",
      "user_sortiz01.user_sortiz01.c2d_oph\n",
      "user_sortiz01.user_sortiz01.c2dtable\n",
      "user_sortiz01.user_sortiz01.gaia_job\n",
      "user_sortiz01.user_sortiz01.job\n",
      "user_sortiz01.user_sortiz01.jobuploaded\n",
      "user_sortiz01.user_sortiz01.m67_dr2\n",
      "user_sortiz01.user_sortiz01.tabla\n",
      "user_sortiz01.user_sortiz01.tabla2\n",
      "user_sortiz01.user_sortiz01.tablaprueba\n",
      "user_sortiz01.user_sortiz01.test_silva_villa\n",
      "user_sortiz01.user_sortiz01.test_vizier_canovas\n",
      "user_sortiz01.user_sortiz01.wrong_name\n"
     ]
    }
   ],
   "source": [
    "tables = Gaia.load_tables(only_names=True, include_shared_tables=False)\n",
    "print('')\n",
    "list_tables = []\n",
    "for table in (tables):\n",
    "    tab_name = table.get_qualified_name()\n",
    "    list_tables.append(tab_name)\n",
    "    print(tab_name)"
   ]
  },
  {
   "cell_type": "code",
   "execution_count": 7,
   "id": "d0d81a52",
   "metadata": {
    "colab": {
     "base_uri": "https://localhost:8080/"
    },
    "executionInfo": {
     "elapsed": 4,
     "status": "ok",
     "timestamp": 1644302662237,
     "user": {
      "displayName": "Hector Cánovas",
      "photoUrl": "https://lh3.googleusercontent.com/a-/AOh14GivbuqKKRvcHg22Et2HNfx8XAIYTfxITnxwgLaioA=s64",
      "userId": "05676006117847450574"
     },
     "user_tz": -60
    },
    "id": "d0d81a52",
    "outputId": "7f164702-baee-424d-d337-11a301220a29"
   },
   "outputs": [
    {
     "name": "stdout",
     "output_type": "stream",
     "text": [
      "user_sortiz01.user_sortiz01.c2d_oph\n",
      "user_sortiz01.user_sortiz01.c2dtable\n",
      "user_sortiz01.user_sortiz01.gaia_job\n",
      "user_sortiz01.user_sortiz01.job\n",
      "user_sortiz01.user_sortiz01.jobuploaded\n",
      "user_sortiz01.user_sortiz01.m67_dr2\n",
      "user_sortiz01.user_sortiz01.tabla\n",
      "user_sortiz01.user_sortiz01.tabla2\n",
      "user_sortiz01.user_sortiz01.tablaprueba\n",
      "user_sortiz01.user_sortiz01.test_silva_villa\n",
      "user_sortiz01.user_sortiz01.test_vizier_canovas\n",
      "user_sortiz01.user_sortiz01.wrong_name\n"
     ]
    }
   ],
   "source": [
    "table_flag = user_name # try also: gaiaedr3; gaiadr2; gaiadr1; external\n",
    "\n",
    "my_tables = [inp for inp in list_tables if table_flag in inp]\n",
    "for my_tables in my_tables:\n",
    "    print(my_tables)"
   ]
  },
  {
   "cell_type": "markdown",
   "id": "3a346a54",
   "metadata": {
    "id": "3a346a54"
   },
   "source": [
    "## Retrieve a sample dataset\n",
    "\n",
    "The query below retrieves a 1-degree cone-search centred in Alcyone (brightest star of the Pleiades open cluster)"
   ]
  },
  {
   "cell_type": "code",
   "execution_count": 8,
   "id": "415c9ad0",
   "metadata": {
    "id": "415c9ad0"
   },
   "outputs": [],
   "source": [
    "radius  = 0.5        # Degrees\n",
    "inp_ra  = 56.87125   # Degrees\n",
    "inp_dec = 24.10493   # Degrees\n",
    "\n",
    "query = f\"SELECT * FROM gaiaedr3.gaia_source \\\n",
    "WHERE 1=CONTAINS(POINT({inp_ra}, {inp_dec}),CIRCLE(ra, dec, {radius})) AND \\\n",
    "ruwe <1.4 AND parallax_over_error >10\""
   ]
  },
  {
   "cell_type": "code",
   "execution_count": 9,
   "id": "ef12e455",
   "metadata": {
    "colab": {
     "base_uri": "https://localhost:8080/",
     "height": 343
    },
    "executionInfo": {
     "elapsed": 2811,
     "status": "ok",
     "timestamp": 1644302668218,
     "user": {
      "displayName": "Hector Cánovas",
      "photoUrl": "https://lh3.googleusercontent.com/a-/AOh14GivbuqKKRvcHg22Et2HNfx8XAIYTfxITnxwgLaioA=s64",
      "userId": "05676006117847450574"
     },
     "user_tz": -60
    },
    "id": "ef12e455",
    "outputId": "c6104ff3-cacb-4783-fe6b-0e6e10e2a2da"
   },
   "outputs": [
    {
     "name": "stdout",
     "output_type": "stream",
     "text": [
      "INFO: Query finished. [astroquery.utils.tap.core]\n",
      "Table size (rows): 1054\n"
     ]
    },
    {
     "data": {
      "text/html": [
       "<div><i>Table length=5</i>\n",
       "<table id=\"table140307489258176\" class=\"table-striped table-bordered table-condensed\">\n",
       "<thead><tr><th>solution_id</th><th>designation</th><th>source_id</th><th>random_index</th><th>ref_epoch</th><th>ra</th><th>ra_error</th><th>dec</th><th>dec_error</th><th>parallax</th><th>parallax_error</th><th>parallax_over_error</th><th>pm</th><th>pmra</th><th>pmra_error</th><th>pmdec</th><th>pmdec_error</th><th>ra_dec_corr</th><th>ra_parallax_corr</th><th>ra_pmra_corr</th><th>ra_pmdec_corr</th><th>dec_parallax_corr</th><th>dec_pmra_corr</th><th>dec_pmdec_corr</th><th>parallax_pmra_corr</th><th>parallax_pmdec_corr</th><th>pmra_pmdec_corr</th><th>astrometric_n_obs_al</th><th>astrometric_n_obs_ac</th><th>astrometric_n_good_obs_al</th><th>astrometric_n_bad_obs_al</th><th>astrometric_gof_al</th><th>astrometric_chi2_al</th><th>astrometric_excess_noise</th><th>astrometric_excess_noise_sig</th><th>astrometric_params_solved</th><th>astrometric_primary_flag</th><th>nu_eff_used_in_astrometry</th><th>pseudocolour</th><th>pseudocolour_error</th><th>ra_pseudocolour_corr</th><th>dec_pseudocolour_corr</th><th>parallax_pseudocolour_corr</th><th>pmra_pseudocolour_corr</th><th>pmdec_pseudocolour_corr</th><th>astrometric_matched_transits</th><th>visibility_periods_used</th><th>astrometric_sigma5d_max</th><th>matched_transits</th><th>new_matched_transits</th><th>matched_transits_removed</th><th>ipd_gof_harmonic_amplitude</th><th>ipd_gof_harmonic_phase</th><th>ipd_frac_multi_peak</th><th>ipd_frac_odd_win</th><th>ruwe</th><th>scan_direction_strength_k1</th><th>scan_direction_strength_k2</th><th>scan_direction_strength_k3</th><th>scan_direction_strength_k4</th><th>scan_direction_mean_k1</th><th>scan_direction_mean_k2</th><th>scan_direction_mean_k3</th><th>scan_direction_mean_k4</th><th>duplicated_source</th><th>phot_g_n_obs</th><th>phot_g_mean_flux</th><th>phot_g_mean_flux_error</th><th>phot_g_mean_flux_over_error</th><th>phot_g_mean_mag</th><th>phot_bp_n_obs</th><th>phot_bp_mean_flux</th><th>phot_bp_mean_flux_error</th><th>phot_bp_mean_flux_over_error</th><th>phot_bp_mean_mag</th><th>phot_rp_n_obs</th><th>phot_rp_mean_flux</th><th>phot_rp_mean_flux_error</th><th>phot_rp_mean_flux_over_error</th><th>phot_rp_mean_mag</th><th>phot_bp_n_contaminated_transits</th><th>phot_bp_n_blended_transits</th><th>phot_rp_n_contaminated_transits</th><th>phot_rp_n_blended_transits</th><th>phot_proc_mode</th><th>phot_bp_rp_excess_factor</th><th>bp_rp</th><th>bp_g</th><th>g_rp</th><th>dr2_radial_velocity</th><th>dr2_radial_velocity_error</th><th>dr2_rv_nb_transits</th><th>dr2_rv_template_teff</th><th>dr2_rv_template_logg</th><th>dr2_rv_template_fe_h</th><th>l</th><th>b</th><th>ecl_lon</th><th>ecl_lat</th></tr></thead>\n",
       "<thead><tr><th></th><th></th><th></th><th></th><th>yr</th><th>deg</th><th>mas</th><th>deg</th><th>mas</th><th>mas</th><th>mas</th><th></th><th>mas / yr</th><th>mas / yr</th><th>mas / yr</th><th>mas / yr</th><th>mas / yr</th><th></th><th></th><th></th><th></th><th></th><th></th><th></th><th></th><th></th><th></th><th></th><th></th><th></th><th></th><th></th><th></th><th>mas</th><th></th><th></th><th></th><th>1 / um</th><th>1 / um</th><th>1 / um</th><th></th><th></th><th></th><th></th><th></th><th></th><th></th><th>mas</th><th></th><th></th><th></th><th></th><th>deg</th><th></th><th></th><th></th><th></th><th></th><th></th><th></th><th>deg</th><th>deg</th><th>deg</th><th>deg</th><th></th><th></th><th>electron / s</th><th>electron / s</th><th></th><th>mag</th><th></th><th>electron / s</th><th>electron / s</th><th></th><th>mag</th><th></th><th>electron / s</th><th>electron / s</th><th></th><th>mag</th><th></th><th></th><th></th><th></th><th></th><th></th><th>mag</th><th>mag</th><th>mag</th><th>km / s</th><th>km / s</th><th></th><th>K</th><th>log(cm.s**-2)</th><th>dex</th><th>deg</th><th>deg</th><th>deg</th><th>deg</th></tr></thead>\n",
       "<thead><tr><th>int64</th><th>object</th><th>int64</th><th>int64</th><th>float64</th><th>float64</th><th>float32</th><th>float64</th><th>float32</th><th>float64</th><th>float32</th><th>float32</th><th>float32</th><th>float64</th><th>float32</th><th>float64</th><th>float32</th><th>float32</th><th>float32</th><th>float32</th><th>float32</th><th>float32</th><th>float32</th><th>float32</th><th>float32</th><th>float32</th><th>float32</th><th>int16</th><th>int16</th><th>int16</th><th>int16</th><th>float32</th><th>float32</th><th>float32</th><th>float32</th><th>int16</th><th>bool</th><th>float32</th><th>float32</th><th>float32</th><th>float32</th><th>float32</th><th>float32</th><th>float32</th><th>float32</th><th>int16</th><th>int16</th><th>float32</th><th>int16</th><th>int16</th><th>int16</th><th>float32</th><th>float32</th><th>int16</th><th>int16</th><th>float32</th><th>float32</th><th>float32</th><th>float32</th><th>float32</th><th>float32</th><th>float32</th><th>float32</th><th>float32</th><th>bool</th><th>int16</th><th>float64</th><th>float32</th><th>float32</th><th>float32</th><th>int16</th><th>float64</th><th>float32</th><th>float32</th><th>float32</th><th>int16</th><th>float64</th><th>float32</th><th>float32</th><th>float32</th><th>int16</th><th>int16</th><th>int16</th><th>int16</th><th>int16</th><th>float32</th><th>float32</th><th>float32</th><th>float32</th><th>float32</th><th>float32</th><th>int16</th><th>float32</th><th>float32</th><th>float32</th><th>float64</th><th>float64</th><th>float64</th><th>float64</th></tr></thead>\n",
       "<tr><td>1636042515805110273</td><td>Gaia EDR3 66500460412034688</td><td>66500460412034688</td><td>69127569</td><td>2016.0</td><td>57.27098636708921</td><td>0.17168145</td><td>23.767955076457387</td><td>0.11809423</td><td>3.0708693853753135</td><td>0.18191844</td><td>16.880472</td><td>25.453642</td><td>2.9765786103724174</td><td>0.22859785</td><td>-25.27900051237299</td><td>0.15374877</td><td>0.120883286</td><td>0.10213651</td><td>-0.07461291</td><td>0.095290996</td><td>0.03081684</td><td>0.06882435</td><td>0.57563007</td><td>0.12608166</td><td>-0.029562013</td><td>0.060510185</td><td>246</td><td>0</td><td>246</td><td>0</td><td>-1.0401708</td><td>230.71997</td><td>0.0</td><td>1.2945734e-15</td><td>31</td><td>False</td><td>1.2559012</td><td>--</td><td>--</td><td>--</td><td>--</td><td>--</td><td>--</td><td>--</td><td>28</td><td>16</td><td>0.31737956</td><td>32</td><td>7</td><td>0</td><td>0.017068248</td><td>109.671875</td><td>0</td><td>0</td><td>0.95163685</td><td>0.2662626</td><td>0.4525221</td><td>0.17325333</td><td>0.3482643</td><td>-14.721563</td><td>-7.873845</td><td>-11.949721</td><td>27.332169</td><td>False</td><td>269</td><td>1008.8968473907103</td><td>1.6505964</td><td>611.2317</td><td>18.17775</td><td>28</td><td>163.07987578574287</td><td>7.462535</td><td>21.853148</td><td>19.80754</td><td>28</td><td>1300.942977615704</td><td>11.199846</td><td>116.15722</td><td>16.96225</td><td>0</td><td>2</td><td>0</td><td>1</td><td>0</td><td>1.4511125</td><td>2.8452911</td><td>1.6297913</td><td>1.2154999</td><td>--</td><td>--</td><td>0</td><td>--</td><td>--</td><td>--</td><td>167.21027204162226</td><td>-23.456307317558043</td><td>60.27673597208111</td><td>3.6425886747222034</td></tr>\n",
       "<tr><td>1636042515805110273</td><td>Gaia EDR3 66503037392413696</td><td>66503037392413696</td><td>1628250195</td><td>2016.0</td><td>57.25250999191082</td><td>0.0551229</td><td>23.76981116459022</td><td>0.03797768</td><td>1.085659938633454</td><td>0.05903795</td><td>18.389187</td><td>5.3446927</td><td>-4.784121236826631</td><td>0.0743591</td><td>-2.382839146500218</td><td>0.048961096</td><td>0.18779734</td><td>0.16031015</td><td>-0.14917433</td><td>0.04476022</td><td>0.013895586</td><td>0.02669013</td><td>0.5274076</td><td>0.1152401</td><td>-0.04337295</td><td>0.14234431</td><td>270</td><td>0</td><td>269</td><td>1</td><td>-0.7536377</td><td>257.13324</td><td>0.0</td><td>0.0</td><td>31</td><td>False</td><td>1.4447846</td><td>--</td><td>--</td><td>--</td><td>--</td><td>--</td><td>--</td><td>--</td><td>31</td><td>16</td><td>0.10407293</td><td>36</td><td>8</td><td>0</td><td>0.046287075</td><td>96.97714</td><td>0</td><td>0</td><td>0.9661336</td><td>0.38728005</td><td>0.47820583</td><td>0.25312775</td><td>0.25069448</td><td>-14.637548</td><td>-11.196893</td><td>-11.426574</td><td>28.1456</td><td>False</td><td>294</td><td>5300.14846528725</td><td>3.0320394</td><td>1748.0474</td><td>16.376646</td><td>34</td><td>2163.0484089893835</td><td>18.702833</td><td>115.65352</td><td>17.000877</td><td>33</td><td>4468.238413943003</td><td>16.199099</td><td>275.83252</td><td>15.622555</td><td>0</td><td>1</td><td>0</td><td>1</td><td>0</td><td>1.2511512</td><td>1.3783226</td><td>0.62423134</td><td>0.75409126</td><td>--</td><td>--</td><td>0</td><td>--</td><td>--</td><td>--</td><td>167.19536331664668</td><td>-23.46642300331773</td><td>60.260591716506084</td><td>3.6480459825602622</td></tr>\n",
       "<tr><td>1636042515805110273</td><td>Gaia EDR3 66503071752154240</td><td>66503071752154240</td><td>864370276</td><td>2016.0</td><td>57.226302193859546</td><td>0.0141776875</td><td>23.768258376811882</td><td>0.009570543</td><td>1.3782393158808104</td><td>0.014899157</td><td>92.50452</td><td>9.873357</td><td>1.2070311347697449</td><td>0.018911587</td><td>-9.79929820318613</td><td>0.012467226</td><td>0.20384428</td><td>0.15297088</td><td>-0.27128586</td><td>0.04634051</td><td>-0.07660297</td><td>0.08312512</td><td>0.45679638</td><td>0.10546772</td><td>-0.107116304</td><td>0.24395801</td><td>283</td><td>283</td><td>281</td><td>2</td><td>-0.59455484</td><td>398.74774</td><td>0.05659433</td><td>3.5458703</td><td>31</td><td>True</td><td>1.5630668</td><td>--</td><td>--</td><td>--</td><td>--</td><td>--</td><td>--</td><td>--</td><td>32</td><td>17</td><td>0.027041983</td><td>36</td><td>9</td><td>0</td><td>0.051433053</td><td>96.040535</td><td>0</td><td>0</td><td>0.97360384</td><td>--</td><td>--</td><td>--</td><td>--</td><td>--</td><td>--</td><td>--</td><td>--</td><td>False</td><td>290</td><td>178498.91670197315</td><td>50.68434</td><td>3521.7764</td><td>12.558278</td><td>35</td><td>97101.687148219</td><td>65.72184</td><td>1477.4645</td><td>12.870475</td><td>34</td><td>116797.26441562656</td><td>49.61748</td><td>2353.9539</td><td>12.079314</td><td>0</td><td>1</td><td>0</td><td>0</td><td>0</td><td>1.1983207</td><td>0.7911606</td><td>0.31219673</td><td>0.47896385</td><td>-9.244772</td><td>6.0870376</td><td>6</td><td>6000.0</td><td>3.5</td><td>0.0</td><td>167.17730640302588</td><td>-23.483840474275446</td><td>60.236788267850585</td><td>3.6517029372659864</td></tr>\n",
       "<tr><td>1636042515805110273</td><td>Gaia EDR3 66503312270318976</td><td>66503312270318976</td><td>521352605</td><td>2016.0</td><td>57.22840421296489</td><td>0.018468343</td><td>23.791855370703882</td><td>0.0128285745</td><td>0.8737627956087666</td><td>0.019479357</td><td>44.85583</td><td>6.7353177</td><td>0.3773160138560999</td><td>0.026905764</td><td>-6.724740747825391</td><td>0.016726857</td><td>0.112098895</td><td>0.060479484</td><td>-0.07403124</td><td>-0.028161634</td><td>0.027249428</td><td>-0.07520813</td><td>0.5368384</td><td>0.021609174</td><td>-0.0061136065</td><td>0.04496416</td><td>256</td><td>0</td><td>256</td><td>0</td><td>0.878659</td><td>272.72238</td><td>0.0</td><td>0.0</td><td>31</td><td>False</td><td>1.5673348</td><td>--</td><td>--</td><td>--</td><td>--</td><td>--</td><td>--</td><td>--</td><td>29</td><td>16</td><td>0.037250105</td><td>33</td><td>7</td><td>0</td><td>0.055011734</td><td>97.14</td><td>0</td><td>0</td><td>1.0381267</td><td>0.37223205</td><td>0.50848544</td><td>0.3156501</td><td>0.20489886</td><td>-9.74119</td><td>-8.410154</td><td>-9.211723</td><td>26.56521</td><td>False</td><td>269</td><td>53656.05866788844</td><td>10.522192</td><td>5099.323</td><td>13.86332</td><td>28</td><td>29356.690831724853</td><td>31.858921</td><td>921.45905</td><td>14.169274</td><td>30</td><td>34887.46113472577</td><td>19.184837</td><td>1818.4913</td><td>13.391222</td><td>0</td><td>0</td><td>0</td><td>0</td><td>0</td><td>1.1973326</td><td>0.77805233</td><td>0.30595398</td><td>0.47209835</td><td>--</td><td>--</td><td>0</td><td>--</td><td>--</td><td>--</td><td>167.16139205432466</td><td>-23.465200760006535</td><td>60.2437720764562</td><td>3.674329109994494</td></tr>\n",
       "<tr><td>1636042515805110273</td><td>Gaia EDR3 66503312270319616</td><td>66503312270319616</td><td>327895911</td><td>2016.0</td><td>57.2371131995102</td><td>0.040579807</td><td>23.7843983634131</td><td>0.02809974</td><td>1.167290231768225</td><td>0.04328978</td><td>26.96457</td><td>10.425598</td><td>1.551452430371854</td><td>0.056189958</td><td>-10.309514725321844</td><td>0.03679339</td><td>0.22644253</td><td>0.1512683</td><td>-0.20084174</td><td>0.012736074</td><td>-0.0098856315</td><td>-0.0004511156</td><td>0.4740082</td><td>0.14693166</td><td>-0.00950404</td><td>0.21059716</td><td>267</td><td>0</td><td>267</td><td>0</td><td>-0.08877436</td><td>270.39008</td><td>0.0</td><td>0.0</td><td>31</td><td>False</td><td>1.472704</td><td>--</td><td>--</td><td>--</td><td>--</td><td>--</td><td>--</td><td>--</td><td>30</td><td>16</td><td>0.07950017</td><td>34</td><td>8</td><td>0</td><td>0.038328778</td><td>102.485245</td><td>0</td><td>0</td><td>0.99485403</td><td>0.38498557</td><td>0.4765876</td><td>0.25661978</td><td>0.23544547</td><td>-18.667168</td><td>-13.773192</td><td>-14.626067</td><td>29.532566</td><td>False</td><td>283</td><td>9204.84458658701</td><td>3.8459518</td><td>2393.3853</td><td>15.777326</td><td>32</td><td>4110.101354542071</td><td>13.889833</td><td>295.90717</td><td>16.303911</td><td>31</td><td>7312.654571355148</td><td>20.637838</td><td>354.3324</td><td>15.0877075</td><td>0</td><td>1</td><td>0</td><td>1</td><td>0</td><td>1.2409505</td><td>1.2162037</td><td>0.5265856</td><td>0.6896181</td><td>--</td><td>--</td><td>0</td><td>--</td><td>--</td><td>--</td><td>167.1732896471273</td><td>-23.465271547462653</td><td>60.2499575101255</td><td>3.665328517775611</td></tr>\n",
       "</table></div>"
      ],
      "text/plain": [
       "<Table length=5>\n",
       "    solution_id             designation         ...      ecl_lat      \n",
       "                                                ...        deg        \n",
       "       int64                   object           ...      float64      \n",
       "------------------- --------------------------- ... ------------------\n",
       "1636042515805110273 Gaia EDR3 66500460412034688 ... 3.6425886747222034\n",
       "1636042515805110273 Gaia EDR3 66503037392413696 ... 3.6480459825602622\n",
       "1636042515805110273 Gaia EDR3 66503071752154240 ... 3.6517029372659864\n",
       "1636042515805110273 Gaia EDR3 66503312270318976 ...  3.674329109994494\n",
       "1636042515805110273 Gaia EDR3 66503312270319616 ...  3.665328517775611"
      ]
     },
     "execution_count": 9,
     "metadata": {},
     "output_type": "execute_result"
    }
   ],
   "source": [
    "job     = Gaia.launch_job_async(query)\n",
    "results = job.get_results()\n",
    "print(f'Table size (rows): {len(results)}')\n",
    "results[0:5]"
   ]
  },
  {
   "cell_type": "markdown",
   "id": "proper-lounge",
   "metadata": {
    "id": "proper-lounge"
   },
   "source": [
    "### Inspect results: Proper Motions\n",
    "\n",
    "Pleiades sources are selected by filtering a circular area (radius = 3 mas) around the Pleiades proper motion distribution (center at ~ [+20,-50] mas/yr in [pmra, pmdec])"
   ]
  },
  {
   "cell_type": "code",
   "execution_count": 10,
   "id": "hourly-orleans",
   "metadata": {
    "colab": {
     "base_uri": "https://localhost:8080/",
     "height": 467
    },
    "executionInfo": {
     "elapsed": 1088,
     "status": "ok",
     "timestamp": 1644302672448,
     "user": {
      "displayName": "Hector Cánovas",
      "photoUrl": "https://lh3.googleusercontent.com/a-/AOh14GivbuqKKRvcHg22Et2HNfx8XAIYTfxITnxwgLaioA=s64",
      "userId": "05676006117847450574"
     },
     "user_tz": -60
    },
    "id": "hourly-orleans",
    "outputId": "8e2a3187-15a2-45a2-e8ee-e5e67055f6c7"
   },
   "outputs": [
    {
     "data": {
      "image/png": "[encoded data removed]",
      "text/plain": [
       "<Figure size 1440x504 with 2 Axes>"
      ]
     },
     "metadata": {
      "needs_background": "light"
     },
     "output_type": "display_data"
    }
   ],
   "source": [
    "radius_pm = 3. # Radius applied to select Pleiades sample in the PMRA-PMDEC space\n",
    "fontsize  = 14\n",
    "\n",
    "fig     = plt.figure(figsize=[20,7])\n",
    "\n",
    "# Panel 1 ===============\n",
    "plt.subplot(121)\n",
    "plt.plot(results['pmra'], results['pmdec'], 'bo', alpha = 0.25)\n",
    "make_canvas(xlabel='pmra  [mas/yr]',ylabel='pmdec [mas/yr]', fontsize = fontsize, show_grid = True)\n",
    "\n",
    "# Panel 2 ===============\n",
    "plt.subplot(122)\n",
    "plt.xlim([-60,60])\n",
    "plt.ylim([-60,60])\n",
    "plt.plot(results['pmra'], results['pmdec'], 'bo', alpha = 0.20, label = 'Field stars')\n",
    "\n",
    "## Pleiades cluster: their proper motion distribution is clearly different from the background/foreground population (~25,-45):\n",
    "els           = np.sqrt((results['pmra']-20)**2 + (results['pmdec']+45)**2) <radius_pm # Selected Pleiades sample\n",
    "pleiades_samp = results[els]\n",
    "plt.plot(pleiades_samp['pmra'], pleiades_samp['pmdec'], 'ro', alpha = 0.50, label = 'Pleiades')\n",
    "\n",
    "make_canvas(title = 'Zoom-in', xlabel='pmra  [mas/yr]',ylabel='pmdec [mas/yr]', fontsize = fontsize, show_grid = True, show_legend = True)\n",
    "plt.show()"
   ]
  },
  {
   "cell_type": "code",
   "execution_count": 11,
   "id": "39d26f00",
   "metadata": {
    "colab": {
     "base_uri": "https://localhost:8080/",
     "height": 309
    },
    "executionInfo": {
     "elapsed": 286,
     "status": "ok",
     "timestamp": 1644302675037,
     "user": {
      "displayName": "Hector Cánovas",
      "photoUrl": "https://lh3.googleusercontent.com/a-/AOh14GivbuqKKRvcHg22Et2HNfx8XAIYTfxITnxwgLaioA=s64",
      "userId": "05676006117847450574"
     },
     "user_tz": -60
    },
    "id": "39d26f00",
    "outputId": "4a47bf4b-a9cc-4367-d9da-04632130f623"
   },
   "outputs": [
    {
     "data": {
      "text/html": [
       "<div><i>Table length=5</i>\n",
       "<table id=\"table140307485182224\" class=\"table-striped table-bordered table-condensed\">\n",
       "<thead><tr><th>solution_id</th><th>designation</th><th>source_id</th><th>random_index</th><th>ref_epoch</th><th>ra</th><th>ra_error</th><th>dec</th><th>dec_error</th><th>parallax</th><th>parallax_error</th><th>parallax_over_error</th><th>pm</th><th>pmra</th><th>pmra_error</th><th>pmdec</th><th>pmdec_error</th><th>ra_dec_corr</th><th>ra_parallax_corr</th><th>ra_pmra_corr</th><th>ra_pmdec_corr</th><th>dec_parallax_corr</th><th>dec_pmra_corr</th><th>dec_pmdec_corr</th><th>parallax_pmra_corr</th><th>parallax_pmdec_corr</th><th>pmra_pmdec_corr</th><th>astrometric_n_obs_al</th><th>astrometric_n_obs_ac</th><th>astrometric_n_good_obs_al</th><th>astrometric_n_bad_obs_al</th><th>astrometric_gof_al</th><th>astrometric_chi2_al</th><th>astrometric_excess_noise</th><th>astrometric_excess_noise_sig</th><th>astrometric_params_solved</th><th>astrometric_primary_flag</th><th>nu_eff_used_in_astrometry</th><th>pseudocolour</th><th>pseudocolour_error</th><th>ra_pseudocolour_corr</th><th>dec_pseudocolour_corr</th><th>parallax_pseudocolour_corr</th><th>pmra_pseudocolour_corr</th><th>pmdec_pseudocolour_corr</th><th>astrometric_matched_transits</th><th>visibility_periods_used</th><th>astrometric_sigma5d_max</th><th>matched_transits</th><th>new_matched_transits</th><th>matched_transits_removed</th><th>ipd_gof_harmonic_amplitude</th><th>ipd_gof_harmonic_phase</th><th>ipd_frac_multi_peak</th><th>ipd_frac_odd_win</th><th>ruwe</th><th>scan_direction_strength_k1</th><th>scan_direction_strength_k2</th><th>scan_direction_strength_k3</th><th>scan_direction_strength_k4</th><th>scan_direction_mean_k1</th><th>scan_direction_mean_k2</th><th>scan_direction_mean_k3</th><th>scan_direction_mean_k4</th><th>duplicated_source</th><th>phot_g_n_obs</th><th>phot_g_mean_flux</th><th>phot_g_mean_flux_error</th><th>phot_g_mean_flux_over_error</th><th>phot_g_mean_mag</th><th>phot_bp_n_obs</th><th>phot_bp_mean_flux</th><th>phot_bp_mean_flux_error</th><th>phot_bp_mean_flux_over_error</th><th>phot_bp_mean_mag</th><th>phot_rp_n_obs</th><th>phot_rp_mean_flux</th><th>phot_rp_mean_flux_error</th><th>phot_rp_mean_flux_over_error</th><th>phot_rp_mean_mag</th><th>phot_bp_n_contaminated_transits</th><th>phot_bp_n_blended_transits</th><th>phot_rp_n_contaminated_transits</th><th>phot_rp_n_blended_transits</th><th>phot_proc_mode</th><th>phot_bp_rp_excess_factor</th><th>bp_rp</th><th>bp_g</th><th>g_rp</th><th>dr2_radial_velocity</th><th>dr2_radial_velocity_error</th><th>dr2_rv_nb_transits</th><th>dr2_rv_template_teff</th><th>dr2_rv_template_logg</th><th>dr2_rv_template_fe_h</th><th>l</th><th>b</th><th>ecl_lon</th><th>ecl_lat</th></tr></thead>\n",
       "<thead><tr><th></th><th></th><th></th><th></th><th>yr</th><th>deg</th><th>mas</th><th>deg</th><th>mas</th><th>mas</th><th>mas</th><th></th><th>mas / yr</th><th>mas / yr</th><th>mas / yr</th><th>mas / yr</th><th>mas / yr</th><th></th><th></th><th></th><th></th><th></th><th></th><th></th><th></th><th></th><th></th><th></th><th></th><th></th><th></th><th></th><th></th><th>mas</th><th></th><th></th><th></th><th>1 / um</th><th>1 / um</th><th>1 / um</th><th></th><th></th><th></th><th></th><th></th><th></th><th></th><th>mas</th><th></th><th></th><th></th><th></th><th>deg</th><th></th><th></th><th></th><th></th><th></th><th></th><th></th><th>deg</th><th>deg</th><th>deg</th><th>deg</th><th></th><th></th><th>electron / s</th><th>electron / s</th><th></th><th>mag</th><th></th><th>electron / s</th><th>electron / s</th><th></th><th>mag</th><th></th><th>electron / s</th><th>electron / s</th><th></th><th>mag</th><th></th><th></th><th></th><th></th><th></th><th></th><th>mag</th><th>mag</th><th>mag</th><th>km / s</th><th>km / s</th><th></th><th>K</th><th>log(cm.s**-2)</th><th>dex</th><th>deg</th><th>deg</th><th>deg</th><th>deg</th></tr></thead>\n",
       "<thead><tr><th>int64</th><th>object</th><th>int64</th><th>int64</th><th>float64</th><th>float64</th><th>float32</th><th>float64</th><th>float32</th><th>float64</th><th>float32</th><th>float32</th><th>float32</th><th>float64</th><th>float32</th><th>float64</th><th>float32</th><th>float32</th><th>float32</th><th>float32</th><th>float32</th><th>float32</th><th>float32</th><th>float32</th><th>float32</th><th>float32</th><th>float32</th><th>int16</th><th>int16</th><th>int16</th><th>int16</th><th>float32</th><th>float32</th><th>float32</th><th>float32</th><th>int16</th><th>bool</th><th>float32</th><th>float32</th><th>float32</th><th>float32</th><th>float32</th><th>float32</th><th>float32</th><th>float32</th><th>int16</th><th>int16</th><th>float32</th><th>int16</th><th>int16</th><th>int16</th><th>float32</th><th>float32</th><th>int16</th><th>int16</th><th>float32</th><th>float32</th><th>float32</th><th>float32</th><th>float32</th><th>float32</th><th>float32</th><th>float32</th><th>float32</th><th>bool</th><th>int16</th><th>float64</th><th>float32</th><th>float32</th><th>float32</th><th>int16</th><th>float64</th><th>float32</th><th>float32</th><th>float32</th><th>int16</th><th>float64</th><th>float32</th><th>float32</th><th>float32</th><th>int16</th><th>int16</th><th>int16</th><th>int16</th><th>int16</th><th>float32</th><th>float32</th><th>float32</th><th>float32</th><th>float32</th><th>float32</th><th>int16</th><th>float32</th><th>float32</th><th>float32</th><th>float64</th><th>float64</th><th>float64</th><th>float64</th></tr></thead>\n",
       "<tr><td>1636042515805110273</td><td>Gaia EDR3 66506331628024832</td><td>66506331628024832</td><td>67044249</td><td>2016.0</td><td>57.3008750959372</td><td>0.030011289</td><td>23.886587601561303</td><td>0.017554495</td><td>7.417763214315631</td><td>0.032488454</td><td>228.31998</td><td>49.250324</td><td>19.620728847184104</td><td>0.04096634</td><td>-45.17323902020466</td><td>0.024343917</td><td>0.113543294</td><td>0.26993033</td><td>-0.14262232</td><td>-0.0077386843</td><td>-0.009412544</td><td>-0.008884138</td><td>0.5726318</td><td>0.123052575</td><td>-0.18759868</td><td>0.020545866</td><td>309</td><td>309</td><td>307</td><td>2</td><td>2.2740746</td><td>1102.5006</td><td>0.1692568</td><td>22.55602</td><td>31</td><td>False</td><td>1.6798116</td><td>--</td><td>--</td><td>--</td><td>--</td><td>--</td><td>--</td><td>--</td><td>35</td><td>16</td><td>0.056902774</td><td>38</td><td>7</td><td>0</td><td>0.0929082</td><td>87.60947</td><td>0</td><td>0</td><td>1.0928063</td><td>--</td><td>--</td><td>--</td><td>--</td><td>--</td><td>--</td><td>--</td><td>--</td><td>True</td><td>327</td><td>10821296.48979366</td><td>3852.067</td><td>2809.2183</td><td>8.101668</td><td>37</td><td>7177995.840941615</td><td>5706.914</td><td>1257.7719</td><td>8.198534</td><td>35</td><td>5473675.633429196</td><td>3489.503</td><td>1568.6118</td><td>7.902198</td><td>0</td><td>9</td><td>0</td><td>10</td><td>0</td><td>1.1691456</td><td>0.29633617</td><td>0.096865654</td><td>0.19947052</td><td>--</td><td>--</td><td>0</td><td>--</td><td>--</td><td>--</td><td>167.1443973788513</td><td>-23.3506361748743</td><td>60.32910074996654</td><td>3.7525457293892406</td></tr>\n",
       "<tr><td>1636042515805110273</td><td>Gaia EDR3 66517468482370176</td><td>66517468482370176</td><td>288105999</td><td>2016.0</td><td>57.07512164513408</td><td>0.02081175</td><td>23.891273678457935</td><td>0.014940319</td><td>7.295109846533388</td><td>0.02168634</td><td>336.39194</td><td>49.208504</td><td>19.104444028563226</td><td>0.02612894</td><td>-45.3486188239001</td><td>0.018848723</td><td>-0.009619972</td><td>0.10226201</td><td>-0.3319375</td><td>0.23725617</td><td>-0.27464542</td><td>0.16270271</td><td>0.12314261</td><td>0.12384364</td><td>-0.014528772</td><td>-0.040822394</td><td>241</td><td>0</td><td>238</td><td>3</td><td>2.343717</td><td>270.69955</td><td>0.050433</td><td>0.90827954</td><td>31</td><td>False</td><td>1.3552847</td><td>--</td><td>--</td><td>--</td><td>--</td><td>--</td><td>--</td><td>--</td><td>27</td><td>16</td><td>0.037220858</td><td>30</td><td>9</td><td>0</td><td>0.024625322</td><td>126.55605</td><td>0</td><td>0</td><td>1.109031</td><td>0.22148938</td><td>0.37267768</td><td>0.32162756</td><td>0.48544624</td><td>-75.68029</td><td>-9.550851</td><td>-38.33447</td><td>30.29118</td><td>False</td><td>227</td><td>48371.222348104355</td><td>16.034466</td><td>3016.7031</td><td>13.975899</td><td>28</td><td>14590.431704676479</td><td>29.897493</td><td>488.01523</td><td>14.928371</td><td>27</td><td>49694.18697974917</td><td>46.034294</td><td>1079.5037</td><td>13.007132</td><td>0</td><td>0</td><td>0</td><td>0</td><td>0</td><td>1.3289847</td><td>1.9212399</td><td>0.9524727</td><td>0.96876717</td><td>--</td><td>--</td><td>0</td><td>--</td><td>--</td><td>--</td><td>166.97553213418126</td><td>-23.487082441261208</td><td>60.128136424196036</td><td>3.8017102481161587</td></tr>\n",
       "<tr><td>1636042515805110273</td><td>Gaia EDR3 66517468482370304</td><td>66517468482370304</td><td>1058265413</td><td>2016.0</td><td>57.07140351416555</td><td>0.014259308</td><td>23.890150538515897</td><td>0.010290545</td><td>7.288929036654956</td><td>0.015746474</td><td>462.8928</td><td>48.884964</td><td>17.88603537123723</td><td>0.018114332</td><td>-45.49537923971175</td><td>0.012060741</td><td>0.15768671</td><td>-0.026115922</td><td>-0.293758</td><td>0.10954249</td><td>-0.2968839</td><td>0.012827917</td><td>0.25208336</td><td>0.20364901</td><td>-0.060319763</td><td>0.08114836</td><td>248</td><td>248</td><td>247</td><td>1</td><td>-2.230591</td><td>486.50354</td><td>0.06220953</td><td>4.7713914</td><td>31</td><td>True</td><td>1.5613911</td><td>--</td><td>--</td><td>--</td><td>--</td><td>--</td><td>--</td><td>--</td><td>28</td><td>16</td><td>0.025668465</td><td>33</td><td>10</td><td>1</td><td>0.035923522</td><td>135.63376</td><td>0</td><td>0</td><td>0.8990129</td><td>--</td><td>--</td><td>--</td><td>--</td><td>--</td><td>--</td><td>--</td><td>--</td><td>False</td><td>267</td><td>1501945.2377208036</td><td>671.4988</td><td>2236.7058</td><td>10.245731</td><td>29</td><td>815182.2154929043</td><td>1149.4801</td><td>709.1747</td><td>10.560406</td><td>27</td><td>986488.4337390311</td><td>1067.5995</td><td>924.02484</td><td>9.762666</td><td>0</td><td>0</td><td>0</td><td>0</td><td>0</td><td>1.1995581</td><td>0.79774</td><td>0.31467438</td><td>0.4830656</td><td>4.9700494</td><td>0.54574215</td><td>7</td><td>5750.0</td><td>4.5</td><td>0.0</td><td>166.97363170831977</td><td>-23.49020983005079</td><td>60.124566405983</td><td>3.801350461771214</td></tr>\n",
       "<tr><td>1636042515805110273</td><td>Gaia EDR3 66521179334108928</td><td>66521179334108928</td><td>482021993</td><td>2016.0</td><td>57.124052826324814</td><td>0.08514237</td><td>23.96812762181643</td><td>0.06164326</td><td>7.245161749059522</td><td>0.09243491</td><td>78.381226</td><td>48.408943</td><td>19.513016268459427</td><td>0.11273302</td><td>-44.30200784877972</td><td>0.077240005</td><td>0.20610483</td><td>0.095693015</td><td>-0.185407</td><td>0.094759814</td><td>-0.09093952</td><td>0.08388427</td><td>0.41417226</td><td>0.14871903</td><td>0.00012822065</td><td>0.21727103</td><td>230</td><td>0</td><td>227</td><td>3</td><td>0.09235964</td><td>241.49985</td><td>0.18670683</td><td>0.84613895</td><td>31</td><td>False</td><td>1.2336112</td><td>--</td><td>--</td><td>--</td><td>--</td><td>--</td><td>--</td><td>--</td><td>26</td><td>16</td><td>0.16012645</td><td>29</td><td>8</td><td>0</td><td>0.018284377</td><td>127.831985</td><td>0</td><td>0</td><td>1.0028831</td><td>0.18955737</td><td>0.38412037</td><td>0.21945757</td><td>0.4617637</td><td>-56.79759</td><td>-16.57874</td><td>-37.46782</td><td>31.857044</td><td>False</td><td>252</td><td>2859.6674452220855</td><td>3.1183722</td><td>917.0385</td><td>17.046577</td><td>27</td><td>388.2005185691018</td><td>12.253894</td><td>31.679768</td><td>18.865902</td><td>26</td><td>3891.6955312657637</td><td>10.834502</td><td>359.19467</td><td>15.772549</td><td>0</td><td>1</td><td>0</td><td>1</td><td>0</td><td>1.4966412</td><td>3.0933533</td><td>1.8193245</td><td>1.2740288</td><td>--</td><td>--</td><td>0</td><td>--</td><td>--</td><td>--</td><td>166.95472730892533</td><td>-23.400234609271703</td><td>60.188578382308926</td><td>3.8670553528042246</td></tr>\n",
       "<tr><td>1636042515805110273</td><td>Gaia EDR3 66521381194879232</td><td>66521381194879232</td><td>1128454241</td><td>2016.0</td><td>57.055515054741626</td><td>0.05099364</td><td>23.97951838435878</td><td>0.037585296</td><td>7.547372277549449</td><td>0.055892754</td><td>135.03311</td><td>49.87515</td><td>19.656892472424325</td><td>0.0707115</td><td>-45.83816214998953</td><td>0.047198564</td><td>0.09135557</td><td>-0.03897755</td><td>-0.14542244</td><td>0.046455387</td><td>-0.28579152</td><td>-0.020002522</td><td>0.3827723</td><td>0.12316862</td><td>-0.07269093</td><td>0.016840845</td><td>262</td><td>0</td><td>262</td><td>0</td><td>0.07701505</td><td>275.84866</td><td>0.0</td><td>2.5072556e-15</td><td>31</td><td>False</td><td>1.2412698</td><td>--</td><td>--</td><td>--</td><td>--</td><td>--</td><td>--</td><td>--</td><td>30</td><td>15</td><td>0.098257534</td><td>33</td><td>9</td><td>0</td><td>0.021533731</td><td>99.272385</td><td>0</td><td>0</td><td>1.0021007</td><td>0.18983287</td><td>0.36853167</td><td>0.3044772</td><td>0.49624595</td><td>-91.3266</td><td>-7.373202</td><td>-34.52395</td><td>31.444204</td><td>False</td><td>285</td><td>5477.541745949912</td><td>5.037254</td><td>1087.4064</td><td>16.340902</td><td>29</td><td>815.8128764839435</td><td>18.24894</td><td>44.704674</td><td>18.059566</td><td>29</td><td>7414.745293737756</td><td>20.065392</td><td>369.52905</td><td>15.072655</td><td>0</td><td>1</td><td>0</td><td>1</td><td>0</td><td>1.5026007</td><td>2.9869118</td><td>1.7186642</td><td>1.2682476</td><td>--</td><td>--</td><td>0</td><td>--</td><td>--</td><td>--</td><td>166.89607181247106</td><td>-23.4342139003711</td><td>60.129772929346096</td><td>3.891741386955767</td></tr>\n",
       "</table></div>"
      ],
      "text/plain": [
       "<Table length=5>\n",
       "    solution_id             designation         ...      ecl_lat      \n",
       "                                                ...        deg        \n",
       "       int64                   object           ...      float64      \n",
       "------------------- --------------------------- ... ------------------\n",
       "1636042515805110273 Gaia EDR3 66506331628024832 ... 3.7525457293892406\n",
       "1636042515805110273 Gaia EDR3 66517468482370176 ... 3.8017102481161587\n",
       "1636042515805110273 Gaia EDR3 66517468482370304 ...  3.801350461771214\n",
       "1636042515805110273 Gaia EDR3 66521179334108928 ... 3.8670553528042246\n",
       "1636042515805110273 Gaia EDR3 66521381194879232 ...  3.891741386955767"
      ]
     },
     "execution_count": 11,
     "metadata": {},
     "output_type": "execute_result"
    }
   ],
   "source": [
    "pleiades_samp[0:5]"
   ]
  },
  {
   "cell_type": "markdown",
   "id": "1ac23822",
   "metadata": {
    "id": "1ac23822"
   },
   "source": [
    "### Inspect results: parallaxes"
   ]
  },
  {
   "cell_type": "code",
   "execution_count": 12,
   "id": "8c14c9db",
   "metadata": {
    "colab": {
     "base_uri": "https://localhost:8080/",
     "height": 359
    },
    "executionInfo": {
     "elapsed": 781,
     "status": "ok",
     "timestamp": 1644302677686,
     "user": {
      "displayName": "Hector Cánovas",
      "photoUrl": "https://lh3.googleusercontent.com/a-/AOh14GivbuqKKRvcHg22Et2HNfx8XAIYTfxITnxwgLaioA=s64",
      "userId": "05676006117847450574"
     },
     "user_tz": -60
    },
    "id": "8c14c9db",
    "outputId": "e36708e7-13a6-4619-96ed-1c8d07c90977"
   },
   "outputs": [
    {
     "data": {
      "image/png": "[encoded data removed]",
      "text/plain": [
       "<Figure size 1440x360 with 1 Axes>"
      ]
     },
     "metadata": {
      "needs_background": "light"
     },
     "output_type": "display_data"
    }
   ],
   "source": [
    "bins = 'scott' # Astropy.hist pre-selected histogram bins\n",
    "\n",
    "fig = plt.figure(figsize = [20,5])\n",
    "\n",
    "hist_out = hist(results['parallax'],       bins=bins, histtype='bar',alpha=0.75, density=True, edgecolor='black', linewidth=1, label = 'Field stars', color = 'b')\n",
    "hist_out = hist(pleiades_samp['parallax'], bins=bins, histtype='bar',alpha=0.75, density=True, edgecolor='black', linewidth=1, label = 'Pleiades', color = 'r')\n",
    "make_canvas(title = 'Parallax Histrogram', xlabel=f'Parallax  [{results[\"parallax\"].unit}]',ylabel='# Sources', fontsize = fontsize, show_grid = True, show_legend = True)\n",
    "plt.show()"
   ]
  },
  {
   "cell_type": "markdown",
   "id": "de92ef55",
   "metadata": {
    "id": "de92ef55"
   },
   "source": [
    "### Optional: Visualise results with pyESASky"
   ]
  },
  {
   "cell_type": "code",
   "execution_count": 13,
   "id": "5c170675",
   "metadata": {
    "colab": {
     "base_uri": "https://localhost:8080/",
     "height": 17,
     "referenced_widgets": [
      "58be3f0c68b645f2bd525fc2643e4ef1"
     ]
    },
    "executionInfo": {
     "elapsed": 958,
     "status": "ok",
     "timestamp": 1644302743473,
     "user": {
      "displayName": "Hector Cánovas",
      "photoUrl": "https://lh3.googleusercontent.com/a-/AOh14GivbuqKKRvcHg22Et2HNfx8XAIYTfxITnxwgLaioA=s64",
      "userId": "05676006117847450574"
     },
     "user_tz": -60
    },
    "id": "5c170675",
    "outputId": "abea6848-2a5d-4315-bb6c-13d00389562a",
    "scrolled": false
   },
   "outputs": [
    {
     "data": {
      "application/vnd.jupyter.widget-view+json": {
       "model_id": "11d1db8fe63847e4a106b82151a446c9",
       "version_major": 2,
       "version_minor": 0
      },
      "text/plain": [
       "ESASkyWidget(layout=Layout(align_self='stretch', height='400px'))"
      ]
     },
     "metadata": {},
     "output_type": "display_data"
    }
   ],
   "source": [
    "if load_esasky:\n",
    "    esasky = ESASkyWidget()\n",
    "    display(esasky)\n",
    "    \n",
    "    catalogue_field    = Catalogue(catalogueName='field',    cooframe=CooFrame.FRAME_J2000, color = 'blue', lineWidth=2)\n",
    "    catalogue_pleiades = Catalogue(catalogueName='pleiades', cooframe=CooFrame.FRAME_J2000, color = 'red',  lineWidth=2)\n",
    "\n",
    "    for ii in range(len(results)):\n",
    "        catalogue_field.addSource(results['source_id'][ii], results['ra'][ii], results['dec'][ii], ii + 1, [], [])\n",
    "\n",
    "    for ii in range(len(pleiades_samp)):\n",
    "        catalogue_pleiades.addSource(pleiades_samp['source_id'][ii], pleiades_samp['ra'][ii], pleiades_samp['dec'][ii], ii + 1, [], [])    \n",
    "    # esasky.overlayCatalogueWithDetails(catalogue_field)\n",
    "    # esasky.overlayCatalogueWithDetails(catalogue_pleiades)"
   ]
  },
  {
   "cell_type": "markdown",
   "id": "56ec53ad",
   "metadata": {
    "id": "56ec53ad"
   },
   "source": [
    "## Upload selected (Pleiades) sample to the Archive user space"
   ]
  },
  {
   "cell_type": "code",
   "execution_count": 15,
   "id": "cd7d81e8",
   "metadata": {
    "id": "cd7d81e8",
    "outputId": "0fb6e0b0-e0ff-4ec2-babb-87b42dc42e19"
   },
   "outputs": [
    {
     "name": "stdout",
     "output_type": "stream",
     "text": [
      "Sending pytable.\n"
     ]
    },
    {
     "name": "stderr",
     "output_type": "stream",
     "text": [
      "WARNING: W50: ?:?:?: W50: Invalid unit string 'log(cm.s**-2)' [astropy.io.votable.tree]\n"
     ]
    },
    {
     "name": "stdout",
     "output_type": "stream",
     "text": [
      "Uploaded table 'pleiades_test'.\n"
     ]
    }
   ],
   "source": [
    "#Gaia.delete_user_table(f'user_{user_name}.pleiades_test') # si usted no tiene esta tabla de usuario, comentar esta linea\n",
    "Gaia.upload_table(upload_resource=pleiades_samp, table_name='pleiades_test')"
   ]
  },
  {
   "cell_type": "markdown",
   "id": "5d9ebe65",
   "metadata": {
    "id": "5d9ebe65"
   },
   "source": [
    "### Verify that the table is stored in my user space"
   ]
  },
  {
   "cell_type": "code",
   "execution_count": 17,
   "id": "24971b1e",
   "metadata": {
    "id": "24971b1e",
    "outputId": "bce373e8-b4c5-4c3e-e9ab-2af889330088"
   },
   "outputs": [
    {
     "name": "stdout",
     "output_type": "stream",
     "text": [
      "INFO: Retrieving tables... [astroquery.utils.tap.core]\n",
      "INFO: Parsing tables... [astroquery.utils.tap.core]\n",
      "INFO: Done. [astroquery.utils.tap.core]\n",
      "\n",
      "user_sortiz01.user_sortiz01.c2d_oph\n",
      "user_sortiz01.user_sortiz01.c2dtable\n",
      "user_sortiz01.user_sortiz01.gaia_job\n",
      "user_sortiz01.user_sortiz01.job\n",
      "user_sortiz01.user_sortiz01.jobuploaded\n",
      "user_sortiz01.user_sortiz01.m67_dr2\n",
      "user_sortiz01.user_sortiz01.pleiades_test\n",
      "user_sortiz01.user_sortiz01.tabla\n",
      "user_sortiz01.user_sortiz01.tabla2\n",
      "user_sortiz01.user_sortiz01.tablaprueba\n",
      "user_sortiz01.user_sortiz01.test_silva_villa\n",
      "user_sortiz01.user_sortiz01.test_vizier_canovas\n",
      "user_sortiz01.user_sortiz01.wrong_name\n"
     ]
    }
   ],
   "source": [
    "tables = Gaia.load_tables(only_names=True, include_shared_tables=False)\n",
    "print('')\n",
    "list_tables = []\n",
    "for table in (tables):\n",
    "    tab_name = table.get_qualified_name()\n",
    "    list_tables.append(tab_name)\n",
    "\n",
    "    \n",
    "table_flag = user_name\n",
    "\n",
    "my_tables = [inp for inp in list_tables if table_flag in inp]\n",
    "for my_tables in my_tables:\n",
    "    print(my_tables)    "
   ]
  },
  {
   "cell_type": "markdown",
   "id": "b8bd1dc1",
   "metadata": {
    "id": "b8bd1dc1"
   },
   "source": [
    "## Run a Cross-match to 2MASS PSC catalogue to retrieve IR photometry"
   ]
  },
  {
   "cell_type": "code",
   "execution_count": 18,
   "id": "1c65acd5",
   "metadata": {
    "id": "1c65acd5"
   },
   "outputs": [],
   "source": [
    "query = f'SELECT gaia.source_id, gaia.ra, gaia.dec, gaia.parallax, gaia.pmra, gaia.pmdec, gaia.phot_g_mean_mag, gaia.phot_bp_mean_mag, gaia.phot_rp_mean_mag, \\\n",
    "xmatch.original_ext_source_id, xmatch.clean_tmass_psc_xsc_oid, xmatch.angular_distance, \\\n",
    "tmass.tmass_oid, tmass.designation, tmass.j_m, tmass.h_m, tmass.ks_m \\\n",
    "FROM user_{user_name}.pleiades_test AS gaia \\\n",
    "JOIN gaiaedr3.tmass_psc_xsc_best_neighbour AS xmatch USING (source_id) \\\n",
    "JOIN gaiaedr3.tmass_psc_xsc_join AS xjoin \\\n",
    "   ON xmatch.original_ext_source_id = xjoin.original_psc_source_id \\\n",
    "JOIN gaiadr1.tmass_original_valid AS tmass \\\n",
    "   ON xjoin.original_psc_source_id = tmass.designation \\\n",
    "ORDER BY gaia.dec ASC'"
   ]
  },
  {
   "cell_type": "code",
   "execution_count": 19,
   "id": "bc8d0a38",
   "metadata": {
    "id": "bc8d0a38",
    "outputId": "978efb5e-29ed-4450-9821-a4e957d0883d"
   },
   "outputs": [
    {
     "name": "stdout",
     "output_type": "stream",
     "text": [
      "INFO: Query finished. [astroquery.utils.tap.core]\n",
      "Table size (rows): 160\n"
     ]
    },
    {
     "data": {
      "text/html": [
       "<div><i>Table length=5</i>\n",
       "<table id=\"table140307480912176\" class=\"table-striped table-bordered table-condensed\">\n",
       "<thead><tr><th>source_id</th><th>ra</th><th>dec</th><th>parallax</th><th>pmra</th><th>pmdec</th><th>phot_g_mean_mag</th><th>phot_bp_mean_mag</th><th>phot_rp_mean_mag</th><th>original_ext_source_id</th><th>clean_tmass_psc_xsc_oid</th><th>angular_distance</th><th>tmass_oid</th><th>designation</th><th>j_m</th><th>h_m</th><th>ks_m</th></tr></thead>\n",
       "<thead><tr><th></th><th>deg</th><th>deg</th><th>mas</th><th>mas / yr</th><th>mas / yr</th><th>mag</th><th>mag</th><th>mag</th><th></th><th></th><th>arcsec</th><th></th><th></th><th>mag</th><th>mag</th><th>mag</th></tr></thead>\n",
       "<thead><tr><th>int64</th><th>float64</th><th>float64</th><th>float64</th><th>float64</th><th>float64</th><th>float32</th><th>float32</th><th>float32</th><th>object</th><th>int32</th><th>float32</th><th>int64</th><th>object</th><th>float32</th><th>float32</th><th>float32</th></tr></thead>\n",
       "<tr><td>65005262035285888</td><td>56.76583191330965</td><td>23.616114992542006</td><td>7.209191094463601</td><td>20.780047946237538</td><td>-44.242085995364654</td><td>14.2646475</td><td>15.604331</td><td>13.129026</td><td>03470376+2336588</td><td>362830778</td><td>0.091169186</td><td>362801206</td><td>03470376+2336588</td><td>11.499</td><td>10.824</td><td>10.591</td></tr>\n",
       "<tr><td>65005846150835200</td><td>56.86159637689897</td><td>23.633878170833444</td><td>7.203188984556041</td><td>19.562190919181592</td><td>-43.405458911462645</td><td>16.335794</td><td>18.170729</td><td>15.042625</td><td>03472676+2338027</td><td>362879901</td><td>0.07497366</td><td>362850319</td><td>03472676+2338027</td><td>13.157</td><td>12.573</td><td>12.282</td></tr>\n",
       "<tr><td>65008388771477120</td><td>56.71926880123131</td><td>23.645138846504032</td><td>7.263568493862063</td><td>19.341465818406746</td><td>-45.10348228374381</td><td>16.497435</td><td>18.41301</td><td>15.17908</td><td>03465259+2338433</td><td>362911041</td><td>0.109805755</td><td>362881461</td><td>03465259+2338433</td><td>13.191</td><td>12.456</td><td>12.206</td></tr>\n",
       "<tr><td>65000073712701056</td><td>57.01950344317138</td><td>23.658221984566293</td><td>7.061613568569041</td><td>19.143649354954604</td><td>-44.93870161163164</td><td>19.53008</td><td>21.417053</td><td>17.984467</td><td>03480465+2339303</td><td>362946948</td><td>0.033621036</td><td>362917359</td><td>03480465+2339303</td><td>15.336</td><td>14.573</td><td>14.226</td></tr>\n",
       "<tr><td>65000417312240896</td><td>57.04676066618868</td><td>23.66195219778092</td><td>7.2799358540794135</td><td>19.68836366974725</td><td>-45.0455575658892</td><td>15.711198</td><td>16.785028</td><td>14.390324</td><td>03481120+2339438</td><td>362957206</td><td>0.13954169</td><td>362927623</td><td>03481120+2339438</td><td>12.74</td><td>12.113</td><td>11.898</td></tr>\n",
       "</table></div>"
      ],
      "text/plain": [
       "<Table length=5>\n",
       "    source_id             ra               dec         ...   h_m     ks_m \n",
       "                         deg               deg         ...   mag     mag  \n",
       "      int64            float64           float64       ... float32 float32\n",
       "----------------- ----------------- ------------------ ... ------- -------\n",
       "65005262035285888 56.76583191330965 23.616114992542006 ...  10.824  10.591\n",
       "65005846150835200 56.86159637689897 23.633878170833444 ...  12.573  12.282\n",
       "65008388771477120 56.71926880123131 23.645138846504032 ...  12.456  12.206\n",
       "65000073712701056 57.01950344317138 23.658221984566293 ...  14.573  14.226\n",
       "65000417312240896 57.04676066618868  23.66195219778092 ...  12.113  11.898"
      ]
     },
     "execution_count": 19,
     "metadata": {},
     "output_type": "execute_result"
    }
   ],
   "source": [
    "job_2     = Gaia.launch_job_async(query)\n",
    "results_2 = job_2.get_results()\n",
    "print(f'Table size (rows): {len(results_2)}')\n",
    "results_2[0:5]"
   ]
  },
  {
   "cell_type": "code",
   "execution_count": 20,
   "id": "0187bb0a",
   "metadata": {
    "id": "0187bb0a"
   },
   "outputs": [],
   "source": [
    "results_2.write('pleiades_gaia_twomass.vot', format = 'votable', overwrite = True)"
   ]
  },
  {
   "cell_type": "code",
   "execution_count": null,
   "id": "9539dd48",
   "metadata": {
    "id": "9539dd48"
   },
   "outputs": [],
   "source": []
  }
 ],
 "metadata": {
  "colab": {
   "name": "tutorial_astroquery.ipynb",
   "provenance": []
  },
  "kernelspec": {
   "display_name": "Python 3 (ipykernel)",
   "language": "python",
   "name": "python3"
  },
  "language_info": {
   "codemirror_mode": {
    "name": "ipython",
    "version": 3
   },
   "file_extension": ".py",
   "mimetype": "text/x-python",
   "name": "python",
   "nbconvert_exporter": "python",
   "pygments_lexer": "ipython3",
   "version": "3.9.7"
  },
  "toc": {
   "base_numbering": 1,
   "nav_menu": {},
   "number_sections": true,
   "sideBar": true,
   "skip_h1_title": true,
   "title_cell": "Table of Contents",
   "title_sidebar": "Contents",
   "toc_cell": false,
   "toc_position": {
    "height": "calc(100% - 180px)",
    "left": "10px",
    "top": "150px",
    "width": "239.51087951660156px"
   },
   "toc_section_display": true,
   "toc_window_display": false
  },
  "widgets": {
   "application/vnd.jupyter.widget-state+json": {
    "58be3f0c68b645f2bd525fc2643e4ef1": {
     "model_module": "pyesasky",
     "model_module_version": "1.9.2",
     "model_name": "ESASkyJSModel",
     "state": {
      "_dom_classes": [],
      "_model_module": "pyesasky",
      "_model_module_version": "1.9.2",
      "_model_name": "ESASkyJSModel",
      "_view_count": null,
      "_view_language": "en",
      "_view_module": "pyesasky",
      "_view_module_ids": [],
      "_view_module_version": "1.9.2",
      "_view_name": "ESASkyJSView",
      "layout": "IPY_MODEL_f3c33eb5baff4347846cc42ba2bf26a0",
      "view_height": "800px"
     }
    }
   }
  }
 },
 "nbformat": 4,
 "nbformat_minor": 5
}
